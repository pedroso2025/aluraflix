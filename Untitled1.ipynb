{
  "nbformat": 4,
  "nbformat_minor": 0,
  "metadata": {
    "colab": {
      "provenance": [],
      "authorship_tag": "ABX9TyPThetdauHUEMfgXjysr2wv",
      "include_colab_link": true
    },
    "kernelspec": {
      "name": "python3",
      "display_name": "Python 3"
    },
    "language_info": {
      "name": "python"
    }
  },
  "cells": [
    {
      "cell_type": "markdown",
      "metadata": {
        "id": "view-in-github",
        "colab_type": "text"
      },
      "source": [
        "<a href=\"https://colab.research.google.com/github/pedroso2025/aluraflix/blob/main/Untitled1.ipynb\" target=\"_parent\"><img src=\"https://colab.research.google.com/assets/colab-badge.svg\" alt=\"Open In Colab\"/></a>"
      ]
    },
    {
      "cell_type": "code",
      "execution_count": 6,
      "metadata": {
        "colab": {
          "base_uri": "https://localhost:8080/"
        },
        "id": "LKbWCKrLWux2",
        "outputId": "8cf51a99-5333-40c4-b50d-0c89e3184b16"
      },
      "outputs": [
        {
          "name": "stdout",
          "output_type": "stream",
          "text": [
            "Digite o total de figurinhas: 100 \n",
            "Digite o número de amigos: 5\n"
          ]
        }
      ],
      "source": [
        "total_de_figurinhas = int(input(\"Digite o total de figurinhas: \"))\n",
        "numero_de_amigos = int(input(\"Digite o número de amigos: \"))"
      ]
    },
    {
      "cell_type": "code",
      "source": [
        "figurinhas_amigo = total_de_figurinhas // (numero_de_amigos + 2)"
      ],
      "metadata": {
        "id": "E6I-HGyWXHpl"
      },
      "execution_count": 7,
      "outputs": []
    },
    {
      "cell_type": "code",
      "source": [
        "total_de_figurinhas = int(input(\"Digite o total de figurinhas: \"))\n",
        "numero_de_amigos = int(input(\"Digite o número de amigos: \"))"
      ],
      "metadata": {
        "colab": {
          "base_uri": "https://localhost:8080/"
        },
        "id": "pzVL_mSlXLRN",
        "outputId": "6d746c3d-c7de-49a5-a947-ca56f3f8d015"
      },
      "execution_count": 8,
      "outputs": [
        {
          "name": "stdout",
          "output_type": "stream",
          "text": [
            "Digite o total de figurinhas: 100\n",
            "Digite o número de amigos: 5\n"
          ]
        }
      ]
    },
    {
      "cell_type": "code",
      "source": [
        "figurinhas_joao = 2 * figurinhas_amigo"
      ],
      "metadata": {
        "id": "1KeKeJ_8XOC1"
      },
      "execution_count": 9,
      "outputs": []
    },
    {
      "cell_type": "code",
      "source": [
        "\n",
        "print(f\"João recebeu {figurinhas_joao} figurinhas\")"
      ],
      "metadata": {
        "colab": {
          "base_uri": "https://localhost:8080/"
        },
        "id": "nHtpWQgdXSau",
        "outputId": "6dab5715-288b-4c16-ad37-2e0aa64eae1c"
      },
      "execution_count": 10,
      "outputs": [
        {
          "output_type": "stream",
          "name": "stdout",
          "text": [
            "João recebeu 28 figurinhas\n"
          ]
        }
      ]
    },
    {
      "cell_type": "code",
      "source": [],
      "metadata": {
        "id": "urrUKPWsXfVF"
      },
      "execution_count": 10,
      "outputs": []
    }
  ]
}