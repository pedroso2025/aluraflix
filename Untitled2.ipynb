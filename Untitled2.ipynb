{
  "nbformat": 4,
  "nbformat_minor": 0,
  "metadata": {
    "colab": {
      "provenance": [],
      "authorship_tag": "ABX9TyPOnNKkIQ9IsTdak6EdLEfK",
      "include_colab_link": true
    },
    "kernelspec": {
      "name": "python3",
      "display_name": "Python 3"
    },
    "language_info": {
      "name": "python"
    }
  },
  "cells": [
    {
      "cell_type": "markdown",
      "metadata": {
        "id": "view-in-github",
        "colab_type": "text"
      },
      "source": [
        "<a href=\"https://colab.research.google.com/github/pedroso2025/aluraflix/blob/main/Untitled2.ipynb\" target=\"_parent\"><img src=\"https://colab.research.google.com/assets/colab-badge.svg\" alt=\"Open In Colab\"/></a>"
      ]
    },
    {
      "cell_type": "code",
      "execution_count": null,
      "metadata": {
        "id": "mJXTAoOaZRps"
      },
      "outputs": [],
      "source": [
        "numero_de_alunos = int(input(\"Digite a quantidade de alunos: \"))\n",
        "numero_de_monitores = int(input(\"Digite a quantidade de monitores: \"))"
      ]
    },
    {
      "cell_type": "code",
      "source": [
        "if numero_de_alunos + numero_de_monitores <= 50:"
      ],
      "metadata": {
        "id": "Ey_ayq-WZV4t"
      },
      "execution_count": null,
      "outputs": []
    },
    {
      "cell_type": "code",
      "source": [
        "resposta_positiva = \"pode ir\"\n",
        "resposta_negativa = \"não pode ir\""
      ],
      "metadata": {
        "id": "l3gKfpDsZZv1"
      },
      "execution_count": null,
      "outputs": []
    },
    {
      "cell_type": "code",
      "source": [
        "if numero_de_alunos + numero_de_monitores <= 50:\n",
        "print(resposta_positiva)\n",
        "else:\n",
        "print(resposta_negativa)"
      ],
      "metadata": {
        "id": "Qf4ZdCViZdrt"
      },
      "execution_count": null,
      "outputs": []
    },
    {
      "cell_type": "code",
      "source": [],
      "metadata": {
        "id": "nauYQL0wZhL9"
      },
      "execution_count": null,
      "outputs": []
    }
  ]
}